{
 "cells": [
  {
   "cell_type": "code",
   "execution_count": null,
   "id": "37cd3c49",
   "metadata": {},
   "outputs": [],
   "source": [
    "import anyio\n",
    "from claude_agent_sdk import query\n",
    "\n",
    "async def main():\n",
    "    async for message in query(prompt=\"What is 2 + 2?\"):\n",
    "        print(message)\n",
    "\n",
    "anyio.run(main)"
   ]
  },
  {
   "cell_type": "code",
   "execution_count": null,
   "id": "5d3c2027",
   "metadata": {},
   "outputs": [],
   "source": []
  }
 ],
 "metadata": {
  "kernelspec": {
   "display_name": ".venv",
   "language": "python",
   "name": "python3"
  },
  "language_info": {
   "codemirror_mode": {
    "name": "ipython",
    "version": 3
   },
   "file_extension": ".py",
   "mimetype": "text/x-python",
   "name": "python",
   "nbconvert_exporter": "python",
   "pygments_lexer": "ipython3",
   "version": "3.13.1"
  }
 },
 "nbformat": 4,
 "nbformat_minor": 5
}
